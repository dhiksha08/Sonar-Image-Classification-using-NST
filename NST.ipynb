{
  "nbformat": 4,
  "nbformat_minor": 0,
  "metadata": {
    "colab": {
      "provenance": [],
      "gpuType": "T4",
      "include_colab_link": true
    },
    "kernelspec": {
      "name": "python3",
      "display_name": "Python 3"
    },
    "language_info": {
      "name": "python"
    },
    "accelerator": "GPU"
  },
  "cells": [
    {
      "cell_type": "markdown",
      "metadata": {
        "id": "view-in-github",
        "colab_type": "text"
      },
      "source": [
        "<a href=\"https://colab.research.google.com/github/dhiksha08/Sonar-Image-Classification-using-NST/blob/main/NST.ipynb\" target=\"_parent\"><img src=\"https://colab.research.google.com/assets/colab-badge.svg\" alt=\"Open In Colab\"/></a>"
      ]
    },
    {
      "cell_type": "markdown",
      "source": [
        "Importing the necessary libraries"
      ],
      "metadata": {
        "id": "31Mq2Td-XMc0"
      }
    },
    {
      "cell_type": "code",
      "execution_count": null,
      "metadata": {
        "id": "Tz1gnY_uVhdd"
      },
      "outputs": [],
      "source": [
        "import torch\n",
        "import torch.nn as nn\n",
        "import torch.optim as optim\n",
        "from PIL import Image\n",
        "import matplotlib.pyplot as plt\n",
        "import torchvision.transforms as transforms\n",
        "import torchvision.models as models\n",
        "import copy"
      ]
    },
    {
      "cell_type": "markdown",
      "source": [
        "Checking for GPU Availability\n",
        "If yes we keep the size as 512 or trim it down to 128 as CPU is slower comparitively"
      ],
      "metadata": {
        "id": "GPalTLqXXmWE"
      }
    },
    {
      "cell_type": "code",
      "source": [
        "device = torch.device(\"cuda\" if torch.cuda.is_available() else \"cpu\")\n",
        "imsize = 512 if torch.cuda.is_available() else 128\n",
        "print(imsize)"
      ],
      "metadata": {
        "colab": {
          "base_uri": "https://localhost:8080/"
        },
        "id": "yIA-jAfbXQ0I",
        "outputId": "fee1400f-07ce-46b9-f8aa-13eb0873d528"
      },
      "execution_count": null,
      "outputs": [
        {
          "output_type": "stream",
          "name": "stdout",
          "text": [
            "512\n"
          ]
        }
      ]
    },
    {
      "cell_type": "markdown",
      "source": [
        "This is used to apply transformations on images such as resizing it and converting it to Tensor data type"
      ],
      "metadata": {
        "id": "XIrLZ-vhYg9M"
      }
    },
    {
      "cell_type": "code",
      "source": [
        "loader = transforms.Compose([transforms.Resize((imsize,imsize)), transforms.ToTensor()])"
      ],
      "metadata": {
        "id": "LPkwMN-fX_zP"
      },
      "execution_count": null,
      "outputs": []
    },
    {
      "cell_type": "markdown",
      "source": [
        "Deep Learning Frameworks like Pytorch expect input in the type of batches for parallel processing.\n",
        "\n",
        "So we are adding another dimension using unsqueeze, to make it as a batch of size 1. Also the datatype of the torch is converted to float.\n",
        "\n",
        "[channels, height, width], now has dimensions [1, channels, height, width] which is the expected input"
      ],
      "metadata": {
        "id": "Af9YauS0Zq4E"
      }
    },
    {
      "cell_type": "code",
      "source": [
        "def image_loader(image_name):\n",
        "    image = Image.open(image_name)\n",
        "    image = loader(image).unsqueeze(0)\n",
        "    return image.to(device, torch.float)"
      ],
      "metadata": {
        "id": "5KZgXPkOaEMY"
      },
      "execution_count": null,
      "outputs": []
    },
    {
      "cell_type": "markdown",
      "source": [
        "Getting both the content and style images and performing the required transformations on it"
      ],
      "metadata": {
        "id": "RiHdlyKaaeyt"
      }
    },
    {
      "cell_type": "code",
      "source": [
        "style_img = image_loader(\"style.jpeg\")\n",
        "content_img = image_loader(\"content.jpeg\")"
      ],
      "metadata": {
        "id": "2YDnBlDQaNiK"
      },
      "execution_count": null,
      "outputs": []
    },
    {
      "cell_type": "markdown",
      "source": [
        "Both style and content images are of the type tensor"
      ],
      "metadata": {
        "id": "tTV0ibWYcK7j"
      }
    },
    {
      "cell_type": "code",
      "source": [
        "print(style_img.shape,content_img.shape)"
      ],
      "metadata": {
        "colab": {
          "base_uri": "https://localhost:8080/"
        },
        "id": "7bE49lsmcB9D",
        "outputId": "a3644bf2-bdd6-40f5-ec25-c4f5dff12798"
      },
      "execution_count": null,
      "outputs": [
        {
          "output_type": "stream",
          "name": "stdout",
          "text": [
            "torch.Size([1, 3, 512, 512]) torch.Size([1, 3, 512, 512])\n"
          ]
        }
      ]
    },
    {
      "cell_type": "markdown",
      "source": [
        "Ensuring that both images are of the same size"
      ],
      "metadata": {
        "id": "JYIb8PGqd0mp"
      }
    },
    {
      "cell_type": "code",
      "source": [
        "assert style_img.size() == content_img.size()"
      ],
      "metadata": {
        "id": "UuCKTnO2dj_S"
      },
      "execution_count": null,
      "outputs": []
    },
    {
      "cell_type": "markdown",
      "source": [
        "### **Style loss is obtained from all the layers whereas content loss is obtained from higher layers. It goes into the deepest of layers to make sure that there is a visible difference between the style image and the generated image.**"
      ],
      "metadata": {
        "id": "t8AjM1UekViQ"
      }
    },
    {
      "cell_type": "markdown",
      "source": [
        "The below class is a subclass of nn.Module . The below code is used for extending the pytorch Functionalities which here is used to compute the Content loss using Mean Squared Error"
      ],
      "metadata": {
        "id": "V3bTF3TEeimH"
      }
    },
    {
      "cell_type": "code",
      "source": [
        "class ContentLoss(nn.Module):\n",
        "    def __init__(self, target):\n",
        "        super(ContentLoss, self).__init__()\n",
        "        self.target = target.detach()\n",
        "    def forward(self, input):\n",
        "        self.loss = nn.functional.mse_loss(input, self.target)\n",
        "        return input"
      ],
      "metadata": {
        "id": "NsDG0F0Rd5lG"
      },
      "execution_count": null,
      "outputs": []
    },
    {
      "cell_type": "markdown",
      "source": [
        "Gram matrix is a measure of style, capturing the correlations between features. The below function computes the Gram matrix of a given tensor."
      ],
      "metadata": {
        "id": "RGbJdmrQjHaQ"
      }
    },
    {
      "cell_type": "code",
      "source": [
        "def gram_matrix(input):\n",
        "    a, b, c, d = input.size()\n",
        "    features = input.view(a * b, c * d)\n",
        "    G = torch.mm(features, features.t())\n",
        "    return G.div(a * b * c * d)"
      ],
      "metadata": {
        "id": "p74GhNZmjE-l"
      },
      "execution_count": null,
      "outputs": []
    },
    {
      "cell_type": "markdown",
      "source": [
        "This class defines the style loss. It calculates the MSE loss between the Gram matrix of the input and the target style. The target style is calculated using the gram_matrix function."
      ],
      "metadata": {
        "id": "rmvfFTWKkFcj"
      }
    },
    {
      "cell_type": "code",
      "source": [
        "class StyleLoss(nn.Module):\n",
        "    def __init__(self, target_feature):\n",
        "        super(StyleLoss, self).__init__()\n",
        "        self.target = gram_matrix(target_feature).detach()\n",
        "    def forward(self, input):\n",
        "        G = gram_matrix(input)\n",
        "        self.loss = F.mse_loss(G, self.target)\n",
        "        return input"
      ],
      "metadata": {
        "id": "w8p9TfebkFpc"
      },
      "execution_count": null,
      "outputs": []
    },
    {
      "cell_type": "markdown",
      "source": [
        "### **VGG is a classical convolutional neural network architecture. It was based on an analysis of how to increase the depth of such networks.**"
      ],
      "metadata": {
        "id": "OCx1mZHjmDny"
      }
    },
    {
      "cell_type": "markdown",
      "source": [
        "Loads a pre-trained VGG19 model from torchvision, moves it to the selected device, and sets it to evaluation mode."
      ],
      "metadata": {
        "id": "ZnnXcUJ2lbqY"
      }
    },
    {
      "cell_type": "code",
      "source": [
        "cnn = models.vgg19(pretrained=True).features.to(device).eval()"
      ],
      "metadata": {
        "id": "RDqmGv8elb0Z"
      },
      "execution_count": null,
      "outputs": []
    },
    {
      "cell_type": "markdown",
      "source": [
        "Define the mean and standard deviation values used for normalizing inputs to the VGG network."
      ],
      "metadata": {
        "id": "7onJGQP9ljQ4"
      }
    },
    {
      "cell_type": "code",
      "source": [
        "cnn_normalization_mean = torch.tensor([0.485, 0.456, 0.406]).to(device)\n",
        "cnn_normalization_std = torch.tensor([0.229, 0.224, 0.225]).to(device)"
      ],
      "metadata": {
        "id": "OBKlN8a2ljdK"
      },
      "execution_count": null,
      "outputs": []
    },
    {
      "cell_type": "markdown",
      "source": [
        "This class defines the normalization module, which normalizes input images using the defined mean and standard deviation values."
      ],
      "metadata": {
        "id": "5V98wHuUlsXD"
      }
    },
    {
      "cell_type": "code",
      "source": [
        "class Normalization(nn.Module):\n",
        "    def __init__(self, mean, std):\n",
        "        super(Normalization, self).__init__()\n",
        "        self.mean = torch.tensor(mean).view(-1, 1, 1)\n",
        "        self.std = torch.tensor(std).view(-1, 1, 1)\n",
        "    def forward(self, img):\n",
        "        return (img - self.mean) / self.std"
      ],
      "metadata": {
        "id": "P1rI0wz1lsfi"
      },
      "execution_count": null,
      "outputs": []
    },
    {
      "cell_type": "markdown",
      "source": [
        "These lists specify the layers in the VGG network used for content and style representations."
      ],
      "metadata": {
        "id": "1SP8RJesmYhL"
      }
    },
    {
      "cell_type": "code",
      "source": [
        "content_layers_default = ['conv_4']\n",
        "style_layers_default = ['conv_1', 'conv_2', 'conv_3', 'conv_4', 'conv_5']"
      ],
      "metadata": {
        "id": "IrIOCTQ8mYql"
      },
      "execution_count": null,
      "outputs": []
    },
    {
      "cell_type": "markdown",
      "source": [
        "These lists specify the layers in the VGG network used for content and style representations."
      ],
      "metadata": {
        "id": "vD3ag-VQn7ae"
      }
    },
    {
      "cell_type": "code",
      "source": [
        "def get_style_model_and_losses(cnn, normalization_mean, normalization_std,\n",
        "                               style_img, content_img,\n",
        "                               content_layers=content_layers_default,\n",
        "                               style_layers=style_layers_default):\n",
        "    cnn = copy.deepcopy(cnn)\n",
        "\n",
        "    normalization = Normalization(normalization_mean, normalization_std).to(device)\n",
        "\n",
        "    content_losses = []\n",
        "    style_losses = []\n",
        "\n",
        "    model = nn.Sequential(normalization)\n",
        "\n",
        "    i = 0  # increment every time we see a conv\n",
        "    for layer in cnn.children():\n",
        "        if isinstance(layer, nn.Conv2d):\n",
        "            i += 1\n",
        "            name = 'conv_{}'.format(i)\n",
        "        elif isinstance(layer, nn.ReLU):\n",
        "            name = 'relu_{}'.format(i)\n",
        "            layer = nn.ReLU(inplace=False)\n",
        "        elif isinstance(layer, nn.MaxPool2d):\n",
        "            name = 'pool_{}'.format(i)\n",
        "        elif isinstance(layer, nn.BatchNorm2d):\n",
        "            name = 'bn_{}'.format(i)\n",
        "        else:\n",
        "            raise RuntimeError('Unrecognized layer: {}'.format(layer.__class__.__name__))\n",
        "\n",
        "        model.add_module(name, layer)\n",
        "\n",
        "        if name in content_layers:\n",
        "            target = model(content_img).detach()\n",
        "            content_loss = ContentLoss(target)\n",
        "            model.add_module(\"content_loss_{}\".format(i), content_loss)\n",
        "            content_losses.append(content_loss)\n",
        "\n",
        "        if name in style_layers:\n",
        "            target_feature = model(style_img).detach()\n",
        "            style_loss = StyleLoss(target_feature)\n",
        "            model.add_module(\"style_loss_{}\".format(i), style_loss)\n",
        "            style_losses.append(style_loss)\n",
        "\n",
        "    for i in range(len(model) - 1, -1, -1):\n",
        "        if isinstance(model[i], ContentLoss) or isinstance(model[i], StyleLoss):\n",
        "            break\n",
        "\n",
        "    model = model[:(i + 1)]\n",
        "\n",
        "    return model, style_losses, content_losses"
      ],
      "metadata": {
        "id": "JZT8P61Sn7i8"
      },
      "execution_count": null,
      "outputs": []
    }
  ]
}